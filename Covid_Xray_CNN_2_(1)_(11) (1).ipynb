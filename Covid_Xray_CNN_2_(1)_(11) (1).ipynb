{
  "nbformat": 4,
  "nbformat_minor": 0,
  "metadata": {
    "colab": {
      "name": "Covid_Xray_CNN_2 (1) (11).ipynb",
      "provenance": [],
      "collapsed_sections": []
    },
    "kernelspec": {
      "name": "python3",
      "display_name": "Python 3"
    },
    "language_info": {
      "name": "python"
    }
  },
  "cells": [
    {
      "cell_type": "code",
      "metadata": {
        "id": "r7j1YGA2Xf93"
      },
      "source": [
        "import numpy as np\n",
        "import cv2\n",
        "import os\n",
        "import matplotlib.pyplot as plt\n",
        "import random\n",
        "import pickle\n",
        "from tensorflow.keras.callbacks import TensorBoard"
      ],
      "execution_count": 92,
      "outputs": []
    },
    {
      "cell_type": "code",
      "metadata": {
        "colab": {
          "base_uri": "https://localhost:8080/"
        },
        "id": "MmjMpATo1lzQ",
        "outputId": "a35afda4-018a-4f82-a98a-a1c6292007d3"
      },
      "source": [
        "from google.colab import drive\n",
        "drive.mount('/content/drive')"
      ],
      "execution_count": 93,
      "outputs": [
        {
          "output_type": "stream",
          "text": [
            "Drive already mounted at /content/drive; to attempt to forcibly remount, call drive.mount(\"/content/drive\", force_remount=True).\n"
          ],
          "name": "stdout"
        }
      ]
    },
    {
      "cell_type": "code",
      "metadata": {
        "id": "2S5vQrixXnIO"
      },
      "source": [
        "DIRECTORY=r'/content/drive/MyDrive/Covid_Xray/Covid_Xray'\n",
        "CATEGORIES=['Covid19 Negative','Covid19 Positive']"
      ],
      "execution_count": 94,
      "outputs": []
    },
    {
      "cell_type": "code",
      "metadata": {
        "id": "aM816JGEXrBB"
      },
      "source": [
        "IMG_SIZE=100;\n",
        "data=[]\n",
        "\n",
        "for category in CATEGORIES:\n",
        "    folder=os.path.join(DIRECTORY,category)\n",
        "    label=CATEGORIES.index(category)\n",
        "    for img in os.listdir(folder):\n",
        "        img_path=os.path.join(folder,img)\n",
        "        img_arr=cv2.imread(img_path)\n",
        "        try:\n",
        "           img_arr = cv2.resize(img_arr, (IMG_SIZE,IMG_SIZE))\n",
        "           #print(img.shape)\n",
        "        except:\n",
        "           break\n",
        "        #img_arr=cv2.resize(img_arr,(IMG_SIZE,IMG_SIZE))\n",
        "        data.append([img_arr,label])"
      ],
      "execution_count": 95,
      "outputs": []
    },
    {
      "cell_type": "code",
      "metadata": {
        "id": "18g7LEoIZQE1",
        "colab": {
          "base_uri": "https://localhost:8080/"
        },
        "outputId": "af94cbc0-93fa-4a03-b685-8de8f29d910e"
      },
      "source": [
        "len(data)"
      ],
      "execution_count": 96,
      "outputs": [
        {
          "output_type": "execute_result",
          "data": {
            "text/plain": [
              "538"
            ]
          },
          "metadata": {
            "tags": []
          },
          "execution_count": 96
        }
      ]
    },
    {
      "cell_type": "code",
      "metadata": {
        "id": "gBFsoaN2X4rf"
      },
      "source": [
        "X=[]\n",
        "Y=[]\n",
        "\n",
        "for features,labels in data:\n",
        "    X.append(features)\n",
        "    Y.append(labels)"
      ],
      "execution_count": 97,
      "outputs": []
    },
    {
      "cell_type": "code",
      "metadata": {
        "id": "rLzekcfBX6yw"
      },
      "source": [
        "X=np.array(X)\n",
        "Y=np.array(Y)\n",
        "\n",
        "X=X/255"
      ],
      "execution_count": 98,
      "outputs": []
    },
    {
      "cell_type": "code",
      "metadata": {
        "colab": {
          "base_uri": "https://localhost:8080/"
        },
        "id": "kcCGenEOX9vH",
        "outputId": "657e0a1a-7a33-4ab8-e21b-a25c4a79ff24"
      },
      "source": [
        "X.shape\n",
        "\n",
        "print(Y)"
      ],
      "execution_count": 99,
      "outputs": [
        {
          "output_type": "stream",
          "text": [
            "[1 1 1 1 1 1 1 1 1 1 1 1 1 1 1 1 1 1 1 1 1 1 1 1 1 1 1 1 1 1 1 1 1 1 1 1 1\n",
            " 1 1 1 1 1 1 1 1 1 1 1 1 1 1 1 1 1 1 1 1 1 1 1 1 1 1 1 1 1 1 1 1 1 1 1 1 1\n",
            " 1 1 1 1 1 1 1 1 1 1 1 1 1 1 1 1 1 1 1 1 1 1 1 1 1 1 1 1 1 1 1 1 1 1 1 1 1\n",
            " 1 1 1 1 1 1 1 1 1 1 1 1 1 1 1 1 1 1 1 1 1 1 1 1 1 1 1 1 1 1 1 1 1 1 1 1 1\n",
            " 1 1 1 1 1 1 1 1 1 1 1 1 1 1 1 1 1 1 1 1 1 1 1 1 1 1 1 1 1 1 1 1 1 1 1 1 1\n",
            " 1 1 1 1 1 1 1 1 1 1 1 1 1 1 1 1 1 1 1 1 1 1 1 1 1 1 1 1 1 1 1 1 1 1 1 1 1\n",
            " 1 1 1 1 1 1 1 1 1 1 1 1 1 1 1 1 1 1 1 1 1 1 1 1 1 1 1 1 1 1 1 1 1 1 1 1 1\n",
            " 1 1 1 1 1 1 1 1 1 1 1 1 1 1 1 1 1 1 1 1 1 1 1 1 1 1 1 1 1 1 1 1 1 1 1 1 1\n",
            " 1 1 1 1 1 1 1 1 1 1 1 1 1 1 1 1 1 1 1 1 1 1 1 1 1 1 1 1 1 1 1 1 1 1 1 1 1\n",
            " 1 1 1 1 1 1 1 1 1 1 1 1 1 1 1 1 1 1 1 1 1 1 1 1 1 1 1 1 1 1 1 1 1 1 1 1 1\n",
            " 1 1 1 1 1 1 1 1 1 1 1 1 1 1 1 1 1 1 1 1 1 1 1 1 1 1 1 1 1 1 1 1 1 1 1 1 1\n",
            " 1 1 1 1 1 1 1 1 1 1 1 1 1 1 1 1 1 1 1 1 1 1 1 1 1 1 1 1 1 1 1 1 1 1 1 1 1\n",
            " 1 1 1 1 1 1 1 1 1 1 1 1 1 1 1 1 1 1 1 1 1 1 1 1 1 1 1 1 1 1 1 1 1 1 1 1 1\n",
            " 1 1 1 1 1 1 1 1 1 1 1 1 1 1 1 1 1 1 1 1 1 1 1 1 1 1 1 1 1 1 1 1 1 1 1 1 1\n",
            " 1 1 1 1 1 1 1 1 1 1 1 1 1 1 1 1 1 1 1 1]\n"
          ],
          "name": "stdout"
        }
      ]
    },
    {
      "cell_type": "code",
      "metadata": {
        "id": "TX0sEjdbX_tj"
      },
      "source": [
        "pickle.dump(data,open(\"dataset\",'wb'))"
      ],
      "execution_count": 100,
      "outputs": []
    },
    {
      "cell_type": "code",
      "metadata": {
        "id": "lSlsYRL2YBVy"
      },
      "source": [
        "from keras.models import Sequential\n",
        "from keras.layers import Conv2D,MaxPooling2D,Flatten,Dense"
      ],
      "execution_count": 101,
      "outputs": []
    },
    {
      "cell_type": "code",
      "metadata": {
        "id": "0Lbm167HYDVj"
      },
      "source": [
        "model=Sequential()\n",
        "\n",
        "model.add( Conv2D(64,(3,3), activation='relu' ) )\n",
        "model.add( MaxPooling2D( (2,2) ) )\n",
        "\n",
        "model.add( Conv2D(64,(3,3), activation='relu' ) )\n",
        "model.add( MaxPooling2D( (2,2) ) )\n",
        "\n",
        "model.add( Conv2D(64,(3,3), activation='relu' ) )\n",
        "model.add( MaxPooling2D( (2,2) ) )\n",
        "\n",
        "model.add( Flatten() )\n",
        "\n",
        "model.add( Dense(128,input_shape=X.shape[1:],activation='relu') )\n",
        "model.add(Dense(3,activation='softmax'))"
      ],
      "execution_count": 102,
      "outputs": []
    },
    {
      "cell_type": "code",
      "metadata": {
        "id": "LwXX2vHGYF0s"
      },
      "source": [
        "model.compile(optimizer='adam',loss='sparse_categorical_crossentropy',metrics=['accuracy'])"
      ],
      "execution_count": 103,
      "outputs": []
    },
    {
      "cell_type": "code",
      "metadata": {
        "colab": {
          "base_uri": "https://localhost:8080/"
        },
        "id": "hm3vSJdjYH0r",
        "outputId": "2b8355cc-1b39-468e-fe88-4af17837b3b0"
      },
      "source": [
        "model.fit(X,Y,epochs=15,validation_split=0.1)"
      ],
      "execution_count": 104,
      "outputs": [
        {
          "output_type": "stream",
          "text": [
            "Epoch 1/15\n",
            "16/16 [==============================] - 10s 571ms/step - loss: 0.2570 - accuracy: 0.8034 - val_loss: 0.0000e+00 - val_accuracy: 1.0000\n",
            "Epoch 2/15\n",
            "16/16 [==============================] - 9s 556ms/step - loss: 0.0000e+00 - accuracy: 1.0000 - val_loss: 0.0000e+00 - val_accuracy: 1.0000\n",
            "Epoch 3/15\n",
            "16/16 [==============================] - 9s 554ms/step - loss: 0.0000e+00 - accuracy: 1.0000 - val_loss: 0.0000e+00 - val_accuracy: 1.0000\n",
            "Epoch 4/15\n",
            "16/16 [==============================] - 9s 555ms/step - loss: 0.0000e+00 - accuracy: 1.0000 - val_loss: 0.0000e+00 - val_accuracy: 1.0000\n",
            "Epoch 5/15\n",
            "16/16 [==============================] - 9s 565ms/step - loss: 0.0000e+00 - accuracy: 1.0000 - val_loss: 0.0000e+00 - val_accuracy: 1.0000\n",
            "Epoch 6/15\n",
            "16/16 [==============================] - 9s 555ms/step - loss: 0.0000e+00 - accuracy: 1.0000 - val_loss: 0.0000e+00 - val_accuracy: 1.0000\n",
            "Epoch 7/15\n",
            "16/16 [==============================] - 9s 557ms/step - loss: 0.0000e+00 - accuracy: 1.0000 - val_loss: 0.0000e+00 - val_accuracy: 1.0000\n",
            "Epoch 8/15\n",
            "16/16 [==============================] - 9s 555ms/step - loss: 0.0000e+00 - accuracy: 1.0000 - val_loss: 0.0000e+00 - val_accuracy: 1.0000\n",
            "Epoch 9/15\n",
            "16/16 [==============================] - 9s 555ms/step - loss: 0.0000e+00 - accuracy: 1.0000 - val_loss: 0.0000e+00 - val_accuracy: 1.0000\n",
            "Epoch 10/15\n",
            "16/16 [==============================] - 9s 556ms/step - loss: 0.0000e+00 - accuracy: 1.0000 - val_loss: 0.0000e+00 - val_accuracy: 1.0000\n",
            "Epoch 11/15\n",
            "16/16 [==============================] - 9s 557ms/step - loss: 0.0000e+00 - accuracy: 1.0000 - val_loss: 0.0000e+00 - val_accuracy: 1.0000\n",
            "Epoch 12/15\n",
            "16/16 [==============================] - 9s 566ms/step - loss: 0.0000e+00 - accuracy: 1.0000 - val_loss: 0.0000e+00 - val_accuracy: 1.0000\n",
            "Epoch 13/15\n",
            "16/16 [==============================] - 9s 556ms/step - loss: 0.0000e+00 - accuracy: 1.0000 - val_loss: 0.0000e+00 - val_accuracy: 1.0000\n",
            "Epoch 14/15\n",
            "16/16 [==============================] - 9s 557ms/step - loss: 0.0000e+00 - accuracy: 1.0000 - val_loss: 0.0000e+00 - val_accuracy: 1.0000\n",
            "Epoch 15/15\n",
            "16/16 [==============================] - 9s 556ms/step - loss: 0.0000e+00 - accuracy: 1.0000 - val_loss: 0.0000e+00 - val_accuracy: 1.0000\n"
          ],
          "name": "stdout"
        },
        {
          "output_type": "execute_result",
          "data": {
            "text/plain": [
              "<tensorflow.python.keras.callbacks.History at 0x7fc1e24b2310>"
            ]
          },
          "metadata": {
            "tags": []
          },
          "execution_count": 104
        }
      ]
    },
    {
      "cell_type": "code",
      "metadata": {
        "colab": {
          "base_uri": "https://localhost:8080/"
        },
        "id": "qS0GZ6NhmTiX",
        "outputId": "fe4a6fe9-25fd-4962-f2ce-e6c6ac3a34c0"
      },
      "source": [
        "history = model.fit(X,Y,epochs=15,validation_split=0.1)"
      ],
      "execution_count": 105,
      "outputs": [
        {
          "output_type": "stream",
          "text": [
            "Epoch 1/15\n",
            "16/16 [==============================] - 9s 561ms/step - loss: 0.0000e+00 - accuracy: 1.0000 - val_loss: 0.0000e+00 - val_accuracy: 1.0000\n",
            "Epoch 2/15\n",
            "16/16 [==============================] - 9s 560ms/step - loss: 0.0000e+00 - accuracy: 1.0000 - val_loss: 0.0000e+00 - val_accuracy: 1.0000\n",
            "Epoch 3/15\n",
            "16/16 [==============================] - 9s 557ms/step - loss: 0.0000e+00 - accuracy: 1.0000 - val_loss: 0.0000e+00 - val_accuracy: 1.0000\n",
            "Epoch 4/15\n",
            "16/16 [==============================] - 9s 557ms/step - loss: 0.0000e+00 - accuracy: 1.0000 - val_loss: 0.0000e+00 - val_accuracy: 1.0000\n",
            "Epoch 5/15\n",
            "16/16 [==============================] - 9s 565ms/step - loss: 0.0000e+00 - accuracy: 1.0000 - val_loss: 0.0000e+00 - val_accuracy: 1.0000\n",
            "Epoch 6/15\n",
            "16/16 [==============================] - 9s 556ms/step - loss: 0.0000e+00 - accuracy: 1.0000 - val_loss: 0.0000e+00 - val_accuracy: 1.0000\n",
            "Epoch 7/15\n",
            "16/16 [==============================] - 9s 560ms/step - loss: 0.0000e+00 - accuracy: 1.0000 - val_loss: 0.0000e+00 - val_accuracy: 1.0000\n",
            "Epoch 8/15\n",
            "16/16 [==============================] - 9s 557ms/step - loss: 0.0000e+00 - accuracy: 1.0000 - val_loss: 0.0000e+00 - val_accuracy: 1.0000\n",
            "Epoch 9/15\n",
            "16/16 [==============================] - 9s 560ms/step - loss: 0.0000e+00 - accuracy: 1.0000 - val_loss: 0.0000e+00 - val_accuracy: 1.0000\n",
            "Epoch 10/15\n",
            "16/16 [==============================] - 9s 559ms/step - loss: 0.0000e+00 - accuracy: 1.0000 - val_loss: 0.0000e+00 - val_accuracy: 1.0000\n",
            "Epoch 11/15\n",
            "16/16 [==============================] - 9s 558ms/step - loss: 0.0000e+00 - accuracy: 1.0000 - val_loss: 0.0000e+00 - val_accuracy: 1.0000\n",
            "Epoch 12/15\n",
            "16/16 [==============================] - 9s 568ms/step - loss: 0.0000e+00 - accuracy: 1.0000 - val_loss: 0.0000e+00 - val_accuracy: 1.0000\n",
            "Epoch 13/15\n",
            "16/16 [==============================] - 9s 559ms/step - loss: 0.0000e+00 - accuracy: 1.0000 - val_loss: 0.0000e+00 - val_accuracy: 1.0000\n",
            "Epoch 14/15\n",
            "16/16 [==============================] - 9s 558ms/step - loss: 0.0000e+00 - accuracy: 1.0000 - val_loss: 0.0000e+00 - val_accuracy: 1.0000\n",
            "Epoch 15/15\n",
            "16/16 [==============================] - 9s 557ms/step - loss: 0.0000e+00 - accuracy: 1.0000 - val_loss: 0.0000e+00 - val_accuracy: 1.0000\n"
          ],
          "name": "stdout"
        }
      ]
    },
    {
      "cell_type": "code",
      "metadata": {
        "colab": {
          "base_uri": "https://localhost:8080/"
        },
        "id": "EBcOMSrmm2ww",
        "outputId": "fc92cb14-177c-4936-faa1-40f08f4cf321"
      },
      "source": [
        "print(history.history.keys())"
      ],
      "execution_count": 106,
      "outputs": [
        {
          "output_type": "stream",
          "text": [
            "dict_keys(['loss', 'accuracy', 'val_loss', 'val_accuracy'])\n"
          ],
          "name": "stdout"
        }
      ]
    },
    {
      "cell_type": "code",
      "metadata": {
        "colab": {
          "base_uri": "https://localhost:8080/",
          "height": 295
        },
        "id": "4whUXfiFm-Rs",
        "outputId": "2a93a2a2-b54e-48ac-ec84-eca448c47fd6"
      },
      "source": [
        "# summarize history for accuracy\n",
        "plt.plot(history.history['accuracy'])\n",
        "plt.plot(history.history['val_accuracy'])\n",
        "plt.title('model accuracy')\n",
        "plt.ylabel('accuracy')\n",
        "plt.xlabel('epoch')\n",
        "plt.legend(['train', 'test'], loc='upper left')\n",
        "plt.show()"
      ],
      "execution_count": 86,
      "outputs": [
        {
          "output_type": "display_data",
          "data": {
            "image/png": "[encoded data removed]",
            "text/plain": [
              "<Figure size 432x288 with 1 Axes>"
            ]
          },
          "metadata": {
            "tags": [],
            "needs_background": "light"
          }
        }
      ]
    },
    {
      "cell_type": "code",
      "metadata": {
        "colab": {
          "base_uri": "https://localhost:8080/",
          "height": 295
        },
        "id": "BaWqnMK2nHPw",
        "outputId": "bfc964d0-a738-4a81-b3ef-b46f4cea7a30"
      },
      "source": [
        "# summarize history for loss\n",
        "plt.plot(history.history['loss'])\n",
        "plt.plot(history.history['val_loss'])\n",
        "plt.title('model loss')\n",
        "plt.ylabel('loss')\n",
        "plt.xlabel('epoch')\n",
        "plt.legend(['train', 'test'], loc='upper left')\n",
        "plt.show()"
      ],
      "execution_count": 87,
      "outputs": [
        {
          "output_type": "display_data",
          "data": {
            "image/png": "[encoded data removed]",
            "text/plain": [
              "<Figure size 432x288 with 1 Axes>"
            ]
          },
          "metadata": {
            "tags": [],
            "needs_background": "light"
          }
        }
      ]
    },
    {
      "cell_type": "code",
      "metadata": {
        "colab": {
          "base_uri": "https://localhost:8080/"
        },
        "id": "e2Bk68EGYJ3h",
        "outputId": "e4925722-bd4a-47d2-814d-f34d7221d568"
      },
      "source": [
        "model.summary()"
      ],
      "execution_count": 107,
      "outputs": [
        {
          "output_type": "stream",
          "text": [
            "Model: \"sequential_4\"\n",
            "_________________________________________________________________\n",
            "Layer (type)                 Output Shape              Param #   \n",
            "=================================================================\n",
            "conv2d_12 (Conv2D)           (None, 98, 98, 64)        1792      \n",
            "_________________________________________________________________\n",
            "max_pooling2d_12 (MaxPooling (None, 49, 49, 64)        0         \n",
            "_________________________________________________________________\n",
            "conv2d_13 (Conv2D)           (None, 47, 47, 64)        36928     \n",
            "_________________________________________________________________\n",
            "max_pooling2d_13 (MaxPooling (None, 23, 23, 64)        0         \n",
            "_________________________________________________________________\n",
            "conv2d_14 (Conv2D)           (None, 21, 21, 64)        36928     \n",
            "_________________________________________________________________\n",
            "max_pooling2d_14 (MaxPooling (None, 10, 10, 64)        0         \n",
            "_________________________________________________________________\n",
            "flatten_4 (Flatten)          (None, 6400)              0         \n",
            "_________________________________________________________________\n",
            "dense_8 (Dense)              (None, 128)               819328    \n",
            "_________________________________________________________________\n",
            "dense_9 (Dense)              (None, 3)                 387       \n",
            "=================================================================\n",
            "Total params: 895,363\n",
            "Trainable params: 895,363\n",
            "Non-trainable params: 0\n",
            "_________________________________________________________________\n"
          ],
          "name": "stdout"
        }
      ]
    },
    {
      "cell_type": "code",
      "metadata": {
        "colab": {
          "base_uri": "https://localhost:8080/"
        },
        "id": "KO-cjpgvYMdY",
        "outputId": "75f1a0dc-83a1-425d-e9d1-e9d4af6ba196"
      },
      "source": [
        "model.save(\"my_model1\")\n",
        "#model.save(\"/content/drive/MyDrive/Models/my_model\")"
      ],
      "execution_count": 108,
      "outputs": [
        {
          "output_type": "stream",
          "text": [
            "INFO:tensorflow:Assets written to: my_model1/assets\n"
          ],
          "name": "stdout"
        }
      ]
    },
    {
      "cell_type": "code",
      "metadata": {
        "colab": {
          "base_uri": "https://localhost:8080/",
          "height": 286
        },
        "id": "YplFYUDsYUQs",
        "outputId": "def16a48-7dcb-497e-bbe7-80f664c506ff"
      },
      "source": [
        "import tensorflow as tf\n",
        "from tensorflow import keras\n",
        "from google.colab.patches import cv2_imshow\n",
        "\n",
        "#test_img = ''\n",
        "#test_img_path = tf.keras.utils.get_file('Test Image', origin=test_img)\n",
        "testimage = r'/content/drive/MyDrive/n7.jpeg'\n",
        "\n",
        "img = cv2.imread(testimage,0)\n",
        "plt.imshow(img, cmap = 'gray', interpolation = 'bicubic')\n",
        "plt.xticks([]), plt.yticks([])  # to hide tick values on X and Y axis\n",
        "plt.show()\n",
        "\n",
        "img = keras.preprocessing.image.load_img(\n",
        "    testimage, target_size=(IMG_SIZE, IMG_SIZE)\n",
        ")\n",
        "\n",
        "img_array = keras.preprocessing.image.img_to_array(img)\n",
        "img_array = tf.expand_dims(img_array, 0) # Create a batch\n",
        "\n",
        "predictions = model.predict(img_array)\n",
        "#score = tf.nn.softmax(predictions[0])\n",
        "predictions\n",
        "print(predictions)\n",
        "if(predictions[0][0]>0.8):\n",
        "    print(\"COVID-19-TEST: NEGATIVE\")\n",
        "\n",
        "if(predictions[0][1]>0.8):\n",
        "    print(\"COVID-19-TEST: POSITIVE\")"
      ],
      "execution_count": 109,
      "outputs": [
        {
          "output_type": "display_data",
          "data": {
            "image/png": "[encoded data removed]",
            "text/plain": [
              "<Figure size 432x288 with 1 Axes>"
            ]
          },
          "metadata": {
            "tags": []
          }
        },
        {
          "output_type": "stream",
          "text": [
            "[[0. 1. 0.]]\n",
            "COVID-19-TEST: POSITIVE\n"
          ],
          "name": "stdout"
        }
      ]
    }
  ]
}